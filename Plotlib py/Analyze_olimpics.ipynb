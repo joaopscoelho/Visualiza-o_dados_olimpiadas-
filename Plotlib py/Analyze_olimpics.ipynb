{
 "cells": [
  {
   "cell_type": "markdown",
   "id": "2d2c18f3",
   "metadata": {},
   "source": [
    "# Importações"
   ]
  },
  {
   "cell_type": "code",
   "execution_count": null,
   "id": "c59ec9d9",
   "metadata": {},
   "outputs": [],
   "source": [
    "import numpy as np \n",
    "import pandas as pd \n",
    "%matplotlib inline\n",
    "import matplotlib.pyplot as plt"
   ]
  },
  {
   "cell_type": "code",
   "execution_count": null,
   "id": "a679beb2",
   "metadata": {},
   "outputs": [],
   "source": [
    "# Importando o dataset\n",
    "dsPrincipal = pd.read_csv(\"athlete_events.csv\")"
   ]
  },
  {
   "cell_type": "markdown",
   "id": "27ea7010",
   "metadata": {},
   "source": [
    "# Normalizando os dados"
   ]
  },
  {
   "cell_type": "code",
   "execution_count": null,
   "id": "d10170b7",
   "metadata": {},
   "outputs": [],
   "source": [
    "# Preenchendo valores nulos em Height e Weight com a média\n",
    "dsPrincipal['Height'].fillna(dsPrincipal['Height'].mean())\n",
    "dsPrincipal['Weight'].fillna(dsPrincipal['Weight'].mean())\n",
    "\n",
    "\n",
    "dsPrincipal['Medal'].fillna(\"Nenhuma\") # Substituindo valores nulos em Medal por \"Nenhuma\""
   ]
  },
  {
   "cell_type": "code",
   "execution_count": null,
   "id": "325df895",
   "metadata": {},
   "outputs": [],
   "source": [
    "\n",
    "duplicatas = dsPrincipal[dsPrincipal.duplicated()] # Verificar duplicatas\n",
    "\n",
    "print(duplicatas) # Só para verificar se existe duplicados\n",
    "\n",
    "dsPrincipal.drop_duplicates(inplace=True) # Remover duplicatas"
   ]
  },
  {
   "cell_type": "markdown",
   "id": "9178cf32",
   "metadata": {},
   "source": [
    "* Quantos atletas masculinos e femininos participaram em cada olimpíada"
   ]
  },
  {
   "cell_type": "code",
   "execution_count": null,
   "id": "5cecb8ce",
   "metadata": {},
   "outputs": [],
   "source": [
    "df_unique = dsPrincipal.drop_duplicates(subset=['ID', 'Year']) # Filtrar para garantir que cada atleta é contado apenas uma vez por ano\n",
    "\n",
    "participacao_por_ano = df_unique.groupby(['Year', 'Sex']).size().unstack(fill_value=0) # Contando o número de atletas\n",
    "\n",
    "participacao_por_ano.columns = ['Feminino', 'Masculino'] # Trocando o F e M para facilitar a apresentação\n",
    "\n",
    "print(participacao_por_ano) # Apresentando atletas"
   ]
  },
  {
   "cell_type": "markdown",
   "id": "09122946",
   "metadata": {},
   "source": [
    "* Crie um gráfico em Python e Matplotlib para exibir esses valores, escolhendo a forma mais efetiva de expor a informação."
   ]
  },
  {
   "cell_type": "code",
   "execution_count": null,
   "id": "b52e4401",
   "metadata": {},
   "outputs": [],
   "source": [
    "anos = participacao_por_ano.index.astype(str)\n",
    "x = np.arange(len(anos))\n",
    "\n",
    "width = 0.35 # Definido um width menor para as barras \n",
    "\n",
    "\n",
    "plt.figure(figsize=(12, 8)) # Criar o gráfico\n",
    "\n",
    "plt.bar(x - 0.2/2, participacao_por_ano['Masculino'], width=0.2, label='Masculino', color='blue')\n",
    "plt.bar(x + 0.2/2, participacao_por_ano['Feminino'], width=0.2 ,label='Feminino', color='red')\n",
    "\n",
    "# legandas\n",
    "plt.title(\"Número de Atletas Masculinos e Femininos por Olimpíada\")\n",
    "plt.xlabel(\"Ano\")\n",
    "plt.ylabel(\"Número de Atletas\")\n",
    "plt.legend()\n",
    "\n",
    "plt.xticks(x, anos, rotation=45)\n",
    "plt.tight_layout()\n",
    "\n",
    "plt.show() # Exibir o gráfico"
   ]
  },
  {
   "cell_type": "markdown",
   "id": "03b15bfd",
   "metadata": {},
   "source": [
    "Análise 1. As mulheres conheça a ganhar espaço no esporte. Provavelmente isso aconteceu em decorrência da quebra de tabus relacionados a preconceito de genero.\n",
    "\n",
    "Análise 2. A segunda guerra mundial impossibilitou os jogos olímpicos"
   ]
  },
  {
   "cell_type": "markdown",
   "id": "64e70c8a",
   "metadata": {},
   "source": [
    "* Quais os 10 atletas com o maior número de medalhas em cada um dos jogos olímpicos."
   ]
  },
  {
   "cell_type": "code",
   "execution_count": null,
   "id": "9b4f81b9",
   "metadata": {},
   "outputs": [],
   "source": [
    "\n",
    "medalhas = dsPrincipal.dropna(subset=['Medal']) # Filtrar para considerar apenas os atletas que ganharam medalhas (excluindo NA)\n",
    "\n",
    "medalhas_por_atleta = medalhas.groupby(['Year', 'ID', 'Name', 'Team'])['Medal'].count().reset_index()\n",
    "\n",
    "top10_atletas_ano = medalhas_por_atleta.sort_values(['Year', 'Medal'], ascending=[True, False]).groupby('Year').head(10)\n",
    "\n",
    "top10_atletas_ano # Exibir os resultados"
   ]
  },
  {
   "cell_type": "code",
   "execution_count": null,
   "id": "c9ffdf10",
   "metadata": {},
   "outputs": [],
   "source": [
    "# Criar um gráfico individual para cada ano (Small Multiples)\n",
    "anos = top10_atletas_ano['Year'].unique()\n",
    "fig, axes = plt.subplots(len(anos), 1, figsize=(10, len(anos) * 4), sharex=True)\n",
    "\n",
    "# Loop para criar gráficos de barras horizontais para cada ano\n",
    "for i, ano in enumerate(anos):\n",
    "    top10_atletas = top10_atletas_ano[top10_atletas_ano['Year'] == ano]\n",
    "    ax = axes[i]\n",
    "    bars = ax.barh(top10_atletas['Name'] + ' (' + top10_atletas['Team'] + ')', top10_atletas['Medal'], color='skyblue')\n",
    "    ax.set_title(f'Top 10 Atletas com mais Medalhas - {ano}')\n",
    "    ax.set_xlabel('Número de Medalhas')\n",
    "    ax.set_ylabel('Atleta')\n",
    "    for bar in bars:\n",
    "        ax.text(\n",
    "            bar.get_width(),  # Posição X do texto (no final da barra)\n",
    "            bar.get_y() + bar.get_height() / 2,  # Posição Y do texto (meio da barra)\n",
    "            f'{int(bar.get_width())}',  # Texto exibido (número de medalhas)\n",
    "            va='center',  # Alinhamento vertical\n",
    "            ha='left'  # Alinhamento horizontal\n",
    "        )\n",
    "\n",
    "plt.tight_layout()\n",
    "plt.show()"
   ]
  },
  {
   "cell_type": "markdown",
   "id": "4e846b68",
   "metadata": {},
   "source": [
    "Análise 1. Os atletas americanos apresentaram um grande desempenho em praticamente todos as edições dos jogos."
   ]
  },
  {
   "cell_type": "markdown",
   "id": "85e40ddd",
   "metadata": {},
   "source": [
    "* Qual time possui o maior número de medalhas de Ouro? E de prata? E de bronze?"
   ]
  },
  {
   "cell_type": "code",
   "execution_count": null,
   "id": "269ab67e",
   "metadata": {},
   "outputs": [],
   "source": [
    "\n",
    "medalhas_por_time = dsPrincipal.groupby(['Team', 'Medal']).size().unstack(fill_value=0) # Pega o número de medalhas de cada tipo por time\n",
    "\n",
    "# Identificar o tipo de medalhas por time. \n",
    "maior_ouro = medalhas_por_time['Gold'].idxmax(), int (medalhas_por_time['Gold'].max()) # Obs: Passando para inteiro para melhorar a visualização\n",
    "maior_prata = medalhas_por_time['Silver'].idxmax(), int(medalhas_por_time['Silver'].max())\n",
    "maior_bronze = medalhas_por_time['Bronze'].idxmax(), int(medalhas_por_time['Bronze'].max())\n",
    "\n",
    "# Apresenta os valores\n",
    "print('Ouro', maior_ouro)\n",
    "print('Prata', maior_prata)\n",
    "print('Bronze', maior_bronze)"
   ]
  },
  {
   "cell_type": "code",
   "execution_count": null,
   "id": "77edeb04",
   "metadata": {},
   "outputs": [],
   "source": [
    "\n",
    "# Criar um DataFrame com esses valores para facilitar a plotagem\n",
    "dados_medalhas = pd.DataFrame({\n",
    "    'Medalha': ['Ouro', 'Prata', 'Bronze'],\n",
    "    'Time': [maior_ouro[0], maior_prata[0], maior_bronze[0]],\n",
    "    'Quantidade': [maior_ouro[1], maior_prata[1], maior_bronze[1]],\n",
    "})\n",
    "\n",
    "# Configuração do gráfico de barras verticais\n",
    "plt.figure(figsize=(8, 6))\n",
    "plt.bar(dados_medalhas['Medalha'], dados_medalhas['Quantidade'], color=['#FFD700', '#C0C0C0', '#CD7F32'])\n",
    "\n",
    "# Títulos e rótulos\n",
    "plt.title(\"Número de Medalhas de Ouro, Prata e Bronze dos Times com Maior Quantidade\")\n",
    "plt.xlabel(\"Tipo de Medalha\")\n",
    "plt.ylabel(\"Quantidade de Medalhas\")\n",
    "\n",
    "# Rótulos para cada barra com o nome do time\n",
    "for i, (medalha, quantidade, time) in enumerate(zip(dados_medalhas['Medalha'], dados_medalhas['Quantidade'], dados_medalhas['Time'])):\n",
    "    plt.text(i, quantidade + 5, f\"{time}\\n{quantidade}\", ha='center', va='bottom')\n",
    "\n",
    "plt.show()"
   ]
  },
  {
   "cell_type": "markdown",
   "id": "a57796f7",
   "metadata": {},
   "source": [
    "Análise 1. Os Estados Unidos fazem grandes investimentos em esportes, infraestrutura, treinamento e desenvolvimento de atletas. Podemos observar na quantidade de premiações para edição dos jogos."
   ]
  },
  {
   "cell_type": "markdown",
   "id": "eb6326fd",
   "metadata": {},
   "source": [
    "* Para os esportes atletismo, ginástica olímpica e natação, selecione 3 países, sendo um deles o Brasil, e verifique quantas medalhas de ouro, prata e bronze cada um desses países ganharam em cada um desses esportes."
   ]
  },
  {
   "cell_type": "code",
   "execution_count": null,
   "id": "61ef0ff4",
   "metadata": {},
   "outputs": [],
   "source": [
    "# Esportes e países de interesse\n",
    "esportes_interesse = [\"Athletics\", \"Gymnastics\", \"Swimming\"]\n",
    "paises_interesse = [\"Brazil\", \"United States\", \"Russia\"]\n",
    "\n",
    "# Considera apenas os esportes e países de interesse\n",
    "df_esportes = dsPrincipal[\n",
    "    (dsPrincipal['Sport'].isin(esportes_interesse)) & \n",
    "    (dsPrincipal['Team'].isin(paises_interesse))\n",
    "]\n",
    "\n",
    "\n",
    "medalhas_por_esporte_pais = df_esportes.groupby(['Team', 'Sport', 'Medal']).size().unstack(fill_value=0) # Contar o número de medalhas\n",
    "\n",
    "medalhas_por_esporte_pais"
   ]
  },
  {
   "cell_type": "markdown",
   "id": "3353d1ad",
   "metadata": {},
   "source": [
    "* Crie um gráfico em Python e Matplotlib para exibir esses valores, escolhendo a forma mais efetiva de expor a informação."
   ]
  },
  {
   "cell_type": "code",
   "execution_count": null,
   "id": "a71cbfe7",
   "metadata": {},
   "outputs": [],
   "source": [
    "medalhas_por_esporte_pais = medalhas_por_esporte_pais[['Gold', 'Silver', 'Bronze']] # Sequeciamento das medalhas\n",
    "\n",
    "fig, axes = plt.subplots(nrows=1, ncols=3, figsize=(15, 6), sharey=True)\n",
    "fig.suptitle(\"Medalhas de Ouro, Prata e Bronze por País e Esporte\")\n",
    "\n",
    "\n",
    "cores = ['#FFD700', '#C0C0C0', '#CD7F32'] # Lista de cores para cada tipo de medalha\n",
    "\n",
    "# Criar uma barra para cada esporte\n",
    "for idx, esporte in enumerate(esportes_interesse):\n",
    "    ax = axes[idx]\n",
    "    dados_esporte = medalhas_por_esporte_pais.xs(esporte, level=\"Sport\", drop_level=False)\n",
    "    dados_esporte.plot(kind='bar', stacked=True, color=cores, ax=ax)\n",
    "    ax.set_title(esporte)\n",
    "    ax.set_xlabel(\"País\")\n",
    "    ax.set_ylabel(\"Número de Medalhas\" if idx == 0 else \"\")\n",
    "    ax.legend(title=\"Medalha\", loc=\"upper left\")\n",
    "\n",
    "plt.tight_layout(rect=[0, 0, 1, 0.95])\n",
    "plt.show()"
   ]
  },
  {
   "cell_type": "markdown",
   "id": "c4a2a8d0",
   "metadata": {},
   "source": [
    "Analise 1. Podemos observar que o Brasil não é muito expressivo nas modalidades por não ter uma tradição nas categorias."
   ]
  },
  {
   "cell_type": "markdown",
   "id": "82dd5eda",
   "metadata": {},
   "source": [
    "* Crie dois gráficos em Python e Matplotlib para exibir esses mesmos valores, escolhendo a forma mais efetiva de expor a informação, porém crie um gráfico para os medalhistas masculinos e outro para os femininos."
   ]
  },
  {
   "cell_type": "code",
   "execution_count": null,
   "id": "89443f56",
   "metadata": {},
   "outputs": [],
   "source": [
    "# Dividir os dados por sexo\n",
    "df_masculino = df_esportes[df_esportes['Sex'] == 'M']\n",
    "df_feminino = df_esportes[df_esportes['Sex'] == 'F']\n",
    "\n",
    "# Função para plotar o gráfico de medalhas por gênero\n",
    "def plot_medalhas_por_genero(df, titulo):\n",
    "    medalhas_por_esporte_pais = df.groupby(['Team', 'Sport', 'Medal']).size().unstack(fill_value=0)\n",
    "    medalhas_por_esporte_pais = medalhas_por_esporte_pais[['Gold', 'Silver', 'Bronze']]  # Ordenar colunas\n",
    "    \n",
    "    fig, axes = plt.subplots(nrows=1, ncols=3, figsize=(15, 6), sharey=True)\n",
    "    fig.suptitle(titulo)\n",
    "\n",
    "    cores = ['#FFD700', '#C0C0C0', '#CD7F32']  # Cores para ouro, prata e bronze\n",
    "\n",
    "    # Criar uma barra para cada esporte\n",
    "    for idx, esporte in enumerate(esportes_interesse):\n",
    "        ax = axes[idx]\n",
    "        dados_esporte = medalhas_por_esporte_pais.xs(esporte, level=\"Sport\", drop_level=False)\n",
    "        dados_esporte.plot(kind='bar', stacked=True, color=cores, ax=ax)\n",
    "        ax.set_title(esporte)\n",
    "        ax.set_xlabel(\"País\")\n",
    "        ax.set_ylabel(\"Número de Medalhas\" if idx == 0 else \"\")\n",
    "        ax.legend(title=\"Medalha\", loc=\"upper right\")\n",
    "\n",
    "    plt.tight_layout(rect=[0, 0, 1, 0.95])\n",
    "    plt.show()\n",
    "\n",
    "# Plotar gráficos para masculino e feminino\n",
    "plot_medalhas_por_genero(df_masculino, \"Medalhas por País e Esporte - Masculino\")\n",
    "plot_medalhas_por_genero(df_feminino, \"Medalhas por País e Esporte - Feminino\")"
   ]
  },
  {
   "cell_type": "markdown",
   "id": "301c315d",
   "metadata": {},
   "source": [
    "Analise 1. A participação na ginastica artistica é majoritariamente feminina, possivelmente devido a estoriotipos acessociados ao esporte, fazendo a participação masculina ser menor. "
   ]
  }
 ],
 "metadata": {
  "kaggle": {
   "accelerator": "none",
   "dataSources": [
    {
     "datasetId": 5615125,
     "sourceId": 9277569,
     "sourceType": "datasetVersion"
    }
   ],
   "dockerImageVersionId": 30761,
   "isGpuEnabled": false,
   "isInternetEnabled": true,
   "language": "python",
   "sourceType": "notebook"
  },
  "kernelspec": {
   "display_name": "Python 3",
   "language": "python",
   "name": "python3"
  },
  "language_info": {
   "codemirror_mode": {
    "name": "ipython",
    "version": 3
   },
   "file_extension": ".py",
   "mimetype": "text/x-python",
   "name": "python",
   "nbconvert_exporter": "python",
   "pygments_lexer": "ipython3",
   "version": "3.12.4"
  },
  "papermill": {
   "default_parameters": {},
   "duration": 12.271118,
   "end_time": "2024-09-02T20:47:54.540404",
   "environment_variables": {},
   "exception": null,
   "input_path": "__notebook__.ipynb",
   "output_path": "__notebook__.ipynb",
   "parameters": {},
   "start_time": "2024-09-02T20:47:42.269286",
   "version": "2.6.0"
  }
 },
 "nbformat": 4,
 "nbformat_minor": 5
}
